{
  "nbformat": 4,
  "nbformat_minor": 0,
  "metadata": {
    "colab": {
      "name": "BT3103 Firebase updates from AWS Lambda Functions.ipynb",
      "provenance": [],
      "collapsed_sections": [],
      "include_colab_link": true
    },
    "kernelspec": {
      "name": "python3",
      "display_name": "Python 3"
    }
  },
  "cells": [
    {
      "cell_type": "markdown",
      "metadata": {
        "id": "view-in-github",
        "colab_type": "text"
      },
      "source": [
        "<a href=\"https://colab.research.google.com/github/oziomek1/CppAdvanced/blob/master/BT3103_Firebase_updates_from_AWS_Lambda_Functions.ipynb\" target=\"_parent\"><img src=\"https://colab.research.google.com/assets/colab-badge.svg\" alt=\"Open In Colab\"/></a>"
      ]
    },
    {
      "cell_type": "markdown",
      "metadata": {
        "id": "ApVNFIb-_jN9",
        "colab_type": "text"
      },
      "source": [
        "### Update the firebaseProject url to your Firebase url.\n",
        "\n"
      ]
    },
    {
      "cell_type": "code",
      "metadata": {
        "id": "br4c-OG2_guN",
        "colab_type": "code",
        "outputId": "8b463d89-a6fa-4b80-c85f-2b4c3e2567fa",
        "colab": {
          "base_uri": "https://localhost:8080/",
          "height": 156
        }
      },
      "source": [
        "# Reading json from a public Firebase node. (.read==true)\n",
        "\n",
        "import requests\n",
        "import json\n",
        "import time\n",
        "\n",
        "# Replace this url with your firebase project url\n",
        "firebaseProject = \"https://awesome-56c60.firebaseio.com\"\n",
        "\n",
        "url = firebaseProject + \"/logs.json\"\n",
        "put_url = firebaseProject + \"/logs/mykey.json\"\n",
        "\n",
        "# Get data using python requests\n",
        "resp = requests.get(url=url)\n",
        "data = json.loads(resp.text)\n",
        "for key in data: \n",
        "  print(key, data[key])\n"
      ],
      "execution_count": 0,
      "outputs": [
        {
          "output_type": "stream",
          "text": [
            "-LrD6cE18RYCvNFdGU9L {'createdAt': '1571121168.575597', 'event': 'correct', 'problem': 1}\n",
            "-LrD6cEU-qWs1dWQDv2A {'createdAt': '1571121168.584137', 'event': 'correct', 'problem': 1}\n",
            "-LrD6cH1F9vXmvhCTxm5 {'createdAt': '1571121168.774123', 'event': 'correct', 'problem': 1}\n",
            "-LrD6nawgIMComSd8fdx {'event': 'testing', 'problem': 99}\n",
            "-LrD6tdXHP3qrqR8Oatq {'event': 'testing', 'problem': 88}\n",
            "-LrDBXeNYJh7svRxiCD1 {'event': 'testing', 'problem': 99}\n",
            "-LrDBaqJooX92Pc6Ln36 {'event': 'testing', 'problem': 88}\n",
            "mykey {'event': 'testing', 'problem': 55}\n"
          ],
          "name": "stdout"
        }
      ]
    },
    {
      "cell_type": "markdown",
      "metadata": {
        "id": "vzHrTfGOok7W",
        "colab_type": "text"
      },
      "source": [
        "### Write data to a publically writeable Firebase node."
      ]
    },
    {
      "cell_type": "code",
      "metadata": {
        "id": "L9X-lsl5_lQU",
        "colab_type": "code",
        "outputId": "bc4485d4-e5c2-4b26-a0c0-afd06390fe91",
        "colab": {
          "base_uri": "https://localhost:8080/",
          "height": 156
        }
      },
      "source": [
        "# Posting to your url will create a new entry with a new key. \n",
        "newData = {'event': 'testing', 'problem': 99}\n",
        "response = requests.post(url=url, \n",
        "                    data=json.dumps(newData))\n",
        "\n",
        "print(response)\n",
        "\n",
        "# Get data using python requests\n",
        "resp = requests.get(url=url)\n",
        "data = json.loads(resp.text)\n",
        "for key in data: \n",
        "  print(key, data[key])\n"
      ],
      "execution_count": 0,
      "outputs": [
        {
          "output_type": "stream",
          "text": [
            "<Response [200]>\n",
            "-LrD6cE18RYCvNFdGU9L {'createdAt': '1571121168.575597', 'event': 'correct', 'problem': 1}\n",
            "-LrD6cEU-qWs1dWQDv2A {'createdAt': '1571121168.584137', 'event': 'correct', 'problem': 1}\n",
            "-LrD6cH1F9vXmvhCTxm5 {'createdAt': '1571121168.774123', 'event': 'correct', 'problem': 1}\n",
            "-LrD6nawgIMComSd8fdx {'event': 'testing', 'problem': 99}\n",
            "-LrD6tdXHP3qrqR8Oatq {'event': 'testing', 'problem': 88}\n",
            "-LrDBXeNYJh7svRxiCD1 {'event': 'testing', 'problem': 99}\n",
            "mykey {'event': 'testing', 'problem': 55}\n"
          ],
          "name": "stdout"
        }
      ]
    },
    {
      "cell_type": "code",
      "metadata": {
        "id": "RySNNpsjD7Au",
        "colab_type": "code",
        "outputId": "aad37f83-4e6f-4d96-e93d-3383d9b5b657",
        "colab": {
          "base_uri": "https://localhost:8080/",
          "height": 156
        }
      },
      "source": [
        "# If you \"put\" to your url, you can overwrite existing data. \n",
        "newData = {'event': 'testing', 'problem': 55}\n",
        "\n",
        "response = requests.put(url=put_url, \n",
        "                    data=json.dumps(newData))\n",
        "\n",
        "print(response)\n",
        "\n",
        "# Get data using python requests\n",
        "resp = requests.get(url=url)\n",
        "data = json.loads(resp.text)\n",
        "for key in data: \n",
        "  print(key, data[key])"
      ],
      "execution_count": 0,
      "outputs": [
        {
          "output_type": "stream",
          "text": [
            "<Response [401]>\n",
            "-LrD6cE18RYCvNFdGU9L {'createdAt': '1571121168.575597', 'event': 'correct', 'problem': 1}\n",
            "-LrD6cEU-qWs1dWQDv2A {'createdAt': '1571121168.584137', 'event': 'correct', 'problem': 1}\n",
            "-LrD6cH1F9vXmvhCTxm5 {'createdAt': '1571121168.774123', 'event': 'correct', 'problem': 1}\n",
            "-LrD6nawgIMComSd8fdx {'event': 'testing', 'problem': 99}\n",
            "-LrD6tdXHP3qrqR8Oatq {'event': 'testing', 'problem': 88}\n",
            "-LrDBXeNYJh7svRxiCD1 {'event': 'testing', 'problem': 99}\n",
            "mykey {'event': 'testing', 'problem': 55}\n"
          ],
          "name": "stdout"
        }
      ]
    },
    {
      "cell_type": "code",
      "metadata": {
        "id": "wgJGCXUrFbNx",
        "colab_type": "code",
        "outputId": "11650aa2-7e37-4426-8a4b-b5dd1c001aef",
        "colab": {
          "base_uri": "https://localhost:8080/",
          "height": 156
        }
      },
      "source": [
        "# With .write: true rules, anyone could delete all your logs. \n",
        "newData = {}\n",
        "\n",
        "# put to url (logs.json) rather than put_url (logs/mykey.json)\n",
        "response = requests.put(url=url, \n",
        "                    data=json.dumps(newData))\n",
        "\n",
        "print(response)\n",
        "\n",
        "# Get data using python requests\n",
        "resp = requests.get(url=url)\n",
        "data = json.loads(resp.text)\n",
        "for key in data: \n",
        "  print(key, data[key])"
      ],
      "execution_count": 0,
      "outputs": [
        {
          "output_type": "stream",
          "text": [
            "<Response [401]>\n",
            "-LrD6cE18RYCvNFdGU9L {'createdAt': '1571121168.575597', 'event': 'correct', 'problem': 1}\n",
            "-LrD6cEU-qWs1dWQDv2A {'createdAt': '1571121168.584137', 'event': 'correct', 'problem': 1}\n",
            "-LrD6cH1F9vXmvhCTxm5 {'createdAt': '1571121168.774123', 'event': 'correct', 'problem': 1}\n",
            "-LrD6nawgIMComSd8fdx {'event': 'testing', 'problem': 99}\n",
            "-LrD6tdXHP3qrqR8Oatq {'event': 'testing', 'problem': 88}\n",
            "-LrDBXeNYJh7svRxiCD1 {'event': 'testing', 'problem': 99}\n",
            "mykey {'event': 'testing', 'problem': 55}\n"
          ],
          "name": "stdout"
        }
      ]
    },
    {
      "cell_type": "code",
      "metadata": {
        "id": "_f7cve-rCbb7",
        "colab_type": "code",
        "outputId": "c6154d14-5105-486b-b8a9-c0762d4a79c0",
        "colab": {
          "base_uri": "https://localhost:8080/",
          "height": 191
        }
      },
      "source": [
        "\"\"\"\n",
        "\n",
        "Add rules to only allow new logs to be written. \n",
        "\n",
        "{\n",
        "  \"rules\": {\n",
        "    \".read\": true,\n",
        "    \"logs\": {\n",
        "       \"$logId\": {\n",
        "         \".write\": \"!data.exists()\"\n",
        "       }\n",
        "     }\n",
        "   }\n",
        "}\n",
        "\n",
        "\n",
        "\"\"\"\n",
        "\n",
        "# Posting to your url will create a new entry with a new key. \n",
        "newData = {'event': 'testing', 'problem': 88}\n",
        "response = requests.post(url=url, \n",
        "                    data=json.dumps(newData))\n",
        "\n",
        "print(response)\n",
        "\n",
        "# Testing deletes\n",
        "newData = {}\n",
        "\n",
        "response = requests.put(url=url, \n",
        "                    data=json.dumps(newData))\n",
        "\n",
        "print(response)\n",
        "\n",
        "# Get data using python requests\n",
        "resp = requests.get(url=url)\n",
        "data = json.loads(resp.text)\n",
        "for key in data: \n",
        "  print(key, data[key])\n"
      ],
      "execution_count": 0,
      "outputs": [
        {
          "output_type": "stream",
          "text": [
            "<Response [200]>\n",
            "<Response [401]>\n",
            "-LrD6cE18RYCvNFdGU9L {'createdAt': '1571121168.575597', 'event': 'correct', 'problem': 1}\n",
            "-LrD6cEU-qWs1dWQDv2A {'createdAt': '1571121168.584137', 'event': 'correct', 'problem': 1}\n",
            "-LrD6cH1F9vXmvhCTxm5 {'createdAt': '1571121168.774123', 'event': 'correct', 'problem': 1}\n",
            "-LrD6nawgIMComSd8fdx {'event': 'testing', 'problem': 99}\n",
            "-LrD6tdXHP3qrqR8Oatq {'event': 'testing', 'problem': 88}\n",
            "-LrDBXeNYJh7svRxiCD1 {'event': 'testing', 'problem': 99}\n",
            "-LrDBaqJooX92Pc6Ln36 {'event': 'testing', 'problem': 88}\n",
            "mykey {'event': 'testing', 'problem': 55}\n"
          ],
          "name": "stdout"
        }
      ]
    },
    {
      "cell_type": "code",
      "metadata": {
        "id": "eOyrpyQDMmVD",
        "colab_type": "code",
        "colab": {}
      },
      "source": [
        ""
      ],
      "execution_count": 0,
      "outputs": []
    }
  ]
}